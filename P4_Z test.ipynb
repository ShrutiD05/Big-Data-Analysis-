{
 "cells": [
  {
   "cell_type": "markdown",
   "id": "2d265325",
   "metadata": {},
   "source": [
    "Z Test"
   ]
  },
  {
   "cell_type": "code",
   "execution_count": null,
   "id": "17293998",
   "metadata": {},
   "outputs": [],
   "source": [
    "#Name : Shruti Pramod Dahane\n",
    "#Roll no:24\n",
    "#Section :3rd-A"
   ]
  },
  {
   "cell_type": "code",
   "execution_count": null,
   "id": "06fa716d",
   "metadata": {},
   "outputs": [
    {
     "name": "stdout",
     "output_type": "stream",
     "text": [
      "1.8388410294011585e-85\n",
      "We can reject the null hypothesis\n"
     ]
    }
   ],
   "source": [
    "\n",
    "import pandas as pd  \n",
    "from scipy import stats  \n",
    "from statsmodels.stats import weightstats as stests  \n",
    "      \n",
    "data = [89, 93, 95, 93, 97, 98, 96, 99, 93, 97,  \n",
    "        110, 104, 119, 105, 104, 110, 110, 112, 115, 114,26,65,76,87,98,23,45,67,89,90,87,76,65,54,43,32,21,67,78,79]  \n",
    "  \n",
    "z_test ,p_val = stests.ztest(data)  \n",
    "print(p_val)  \n",
    "  \n",
    "if p_val < 0.05:  \n",
    "    print(\"We can reject the null hypothesis\")  \n",
    "else:  \n",
    "    print(\"We can accept the null hypothesis\")  "
   ]
  },
  {
   "cell_type": "code",
   "execution_count": null,
   "id": "adc6e8cc",
   "metadata": {},
   "outputs": [],
   "source": []
  }
 ],
 "metadata": {
  "kernelspec": {
   "display_name": "Python 3",
   "language": "python",
   "name": "python3"
  },
  "language_info": {
   "codemirror_mode": {
    "name": "ipython",
    "version": 3
   },
   "file_extension": ".py",
   "mimetype": "text/x-python",
   "name": "python",
   "nbconvert_exporter": "python",
   "pygments_lexer": "ipython3",
   "version": "3.12.4"
  }
 },
 "nbformat": 4,
 "nbformat_minor": 5
}
